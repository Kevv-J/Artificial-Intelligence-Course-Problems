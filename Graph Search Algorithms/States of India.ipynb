{
 "cells": [
  {
   "cell_type": "code",
   "execution_count": 2,
   "metadata": {},
   "outputs": [],
   "source": [
    "import pandas as pd\n",
    "\n",
    "data = pd.read_csv(\"States.csv\",header=None)\n",
    "# cities = {}\n",
    "# k=0\n",
    "# for i in range(len(data[0])):\n",
    "#     if data[0][i] not in cities:\n",
    "#         cities[data[0][i]] = k\n",
    "#         k+=1\n",
    "#     if data[1][i] not in cities:\n",
    "#         cities[data[1][i]] = k\n",
    "#         k+=1\n",
    "\n",
    "# print(cities)\n",
    "heuristic = {}\n",
    "data1 = pd.read_csv(\"heuristics_bangalore.csv\",header=None)\n",
    "for i in range(len(data1[0])):\n",
    "        heuristic[data1[0][i]] = data1[2][i]\n",
    "# print(heuristic)"
   ]
  },
  {
   "cell_type": "code",
   "execution_count": 3,
   "metadata": {},
   "outputs": [],
   "source": [
    "# graph = [[math.inf for x in range(29)] for y in range(29)]\n",
    "# for i in range(len(data[0])):\n",
    "#     graph[cities[data[0][i]]][cities[data[1][i]]] = data[2][i]\n",
    "#     graph[cities[data[1][i]]][cities[data[0][i]]] = data[2][i]\n",
    "\n",
    "\n",
    "graph = {}\n",
    "\n",
    "for i in range(len(data[0])):\n",
    "    if data[0][i] not in graph:\n",
    "        graph[data[0][i]] = set()\n",
    "        graph[data[0][i]].add((data[1][i],data[2][i]))\n",
    "    else:\n",
    "        graph[data[0][i]].add((data[1][i],data[2][i]))\n",
    "    if data[1][i] not in graph:\n",
    "        graph[data[1][i]] = set()\n",
    "        graph[data[1][i]].add((data[0][i],data[2][i]))\n",
    "    else:\n",
    "        graph[data[1][i]].add((data[0][i],data[2][i]))\n",
    "    \n",
    "# print(graph)"
   ]
  },
  {
   "cell_type": "code",
   "execution_count": 4,
   "metadata": {},
   "outputs": [],
   "source": [
    "def route(start,goal,explored):\n",
    "    node = [x for x in explored if x[0] == goal]\n",
    "    node = node[0]\n",
    "    cost = node[3]+node[1]\n",
    "    \n",
    "    path = []\n",
    "    while node[0] != start:\n",
    "        path.insert(0,node[0])\n",
    "        node = [x for x in explored if x[0] == node[4]]\n",
    "        node = node[0]\n",
    "    path.insert(0,start)\n",
    "    return path,cost\n",
    "        "
   ]
  },
  {
   "cell_type": "code",
   "execution_count": 9,
   "metadata": {},
   "outputs": [],
   "source": [
    "def Search(start,goal,algo):\n",
    "    frontier = [(start,0,heuristic[start],0,None)]\n",
    "    explored = []\n",
    "    while True:\n",
    "        if algo == \"AStar\":\n",
    "            frontier = sorted(frontier, key=lambda x: x[1]+x[2]+x[3])\n",
    "        if algo == \"Greedy\":\n",
    "            frontier = sorted(frontier, key=lambda x: x[2])\n",
    "#         print(frontier)\n",
    "        if not frontier:\n",
    "            return (\"Failure\",-1)\n",
    "        if goal in [x[0] for x in explored]:\n",
    "            return route(start,goal,explored)\n",
    "        if algo == \"DFS\":\n",
    "            node = frontier.pop()\n",
    "        else :\n",
    "            node = frontier.pop(0)\n",
    "        if node[0] not in [x[0] for x in explored]:\n",
    "            explored.append(node)\n",
    "            neighbours = graph[node[0]]\n",
    "            for neighbour in neighbours:\n",
    "                if neighbour[0] not in [x[0] for x in explored]:\n",
    "                    new_node = (neighbour[0],neighbour[1],heuristic[neighbour[0]],node[1]+node[3],node[0])\n",
    "                    frontier.append(new_node)"
   ]
  },
  {
   "cell_type": "code",
   "execution_count": 13,
   "metadata": {},
   "outputs": [
    {
     "name": "stdout",
     "output_type": "stream",
     "text": [
      "Itanagar\n",
      "DFS:\n",
      "Path = ['Itanagar', 'Dispur', 'Kolkata', 'Patna', 'Ranchi', 'Bhubaneswar', 'Hyderabad', 'Mumbai', 'Panaji', 'Bangalore']\n",
      "Cost = 5048\n",
      "BFS:\n",
      "Path = ['Itanagar', 'Dispur', 'Kolkata', 'Bhubaneswar', 'Amaravati', 'Bangalore']\n",
      "Cost = 2780\n",
      "Greedy:\n",
      "Path = ['Itanagar', 'Dispur', 'Kolkata', 'Bhubaneswar', 'Amaravati', 'Bangalore']\n",
      "Cost = 2780\n",
      "A Star:\n",
      "Path = ['Itanagar', 'Dispur', 'Kolkata', 'Bhubaneswar', 'Amaravati', 'Bangalore']\n",
      "Cost = 2780\n"
     ]
    }
   ],
   "source": [
    "start = input()\n",
    "# start = 'New Delhi'\n",
    "goal = 'Bangalore'\n",
    "\n",
    "path,cost = Search(start,goal,\"DFS\")\n",
    "print(\"DFS:\")\n",
    "print(\"Path = {}\".format(path))\n",
    "print(\"Cost = {}\".format(cost))\n",
    "\n",
    "path,cost = Search(start,goal,\"BFS\")\n",
    "print(\"BFS:\")\n",
    "print(\"Path = {}\".format(path))\n",
    "print(\"Cost = {}\".format(cost))\n",
    "\n",
    "path,cost = Search(start,goal,\"Greedy\")\n",
    "print(\"Greedy:\")\n",
    "print(\"Path = {}\".format(path))\n",
    "print(\"Cost = {}\".format(cost))\n",
    "\n",
    "path,cost = Search(start,goal,\"AStar\")\n",
    "print(\"A Star:\")\n",
    "print(\"Path = {}\".format(path))\n",
    "print(\"Cost = {}\".format(cost))"
   ]
  },
  {
   "cell_type": "code",
   "execution_count": null,
   "metadata": {},
   "outputs": [],
   "source": []
  }
 ],
 "metadata": {
  "kernelspec": {
   "display_name": "Python 3",
   "language": "python",
   "name": "python3"
  },
  "language_info": {
   "codemirror_mode": {
    "name": "ipython",
    "version": 3
   },
   "file_extension": ".py",
   "mimetype": "text/x-python",
   "name": "python",
   "nbconvert_exporter": "python",
   "pygments_lexer": "ipython3",
   "version": "3.6.5"
  }
 },
 "nbformat": 4,
 "nbformat_minor": 2
}
