{
 "cells": [
  {
   "cell_type": "code",
   "execution_count": 57,
   "metadata": {},
   "outputs": [],
   "source": [
    "import random"
   ]
  },
  {
   "cell_type": "code",
   "execution_count": 68,
   "metadata": {},
   "outputs": [],
   "source": [
    "# Connected graph\n",
    "neighbours = {'Western Australia': ('Northern Teritory','South Australia'),\n",
    "              'Northern Teritory': ('Western Australia','South Australia','Queensland'),\n",
    "              'South Australia': ('Western Australia','Northern Teritory','Queensland','New South Wales','Victoria'),\n",
    "              'Queensland': ('Northern Teritory', 'South Australia','New South Wales'),\n",
    "              'New South Wales': ('Queensland','South Australia','Victoria'),\n",
    "              'Victoria': ('South Australia','New South Wales'),\n",
    "              'Tasmania': ()\n",
    "             }"
   ]
  },
  {
   "cell_type": "code",
   "execution_count": 69,
   "metadata": {},
   "outputs": [
    {
     "name": "stdout",
     "output_type": "stream",
     "text": [
      "['Western Australia', 'Northern Teritory', 'South Australia', 'Queensland', 'New South Wales', 'Victoria', 'Tasmania']\n"
     ]
    }
   ],
   "source": [
    "# Consistency check of graph\n",
    "states = []\n",
    "for x in neighbours:\n",
    "    if x not in states:\n",
    "        states.append(x)\n",
    "    for neighbour in neighbours[x]:\n",
    "        if neighbour not in states:\n",
    "            states.append(neighbour)\n",
    "            \n",
    "print(states)"
   ]
  },
  {
   "cell_type": "code",
   "execution_count": 71,
   "metadata": {},
   "outputs": [
    {
     "name": "stdout",
     "output_type": "stream",
     "text": [
      "Western Australia can be coloured in ['Red', 'Green', 'Blue']\n",
      "Western Australia is coloured in Blue\n",
      "\n",
      "Northern Teritory can be coloured in ['Red', 'Green']\n",
      "Northern Teritory is coloured in Red\n",
      "\n",
      "South Australia can be coloured in ['Green']\n",
      "South Australia is coloured in Green\n",
      "\n",
      "Queensland can be coloured in ['Blue']\n",
      "Queensland is coloured in Blue\n",
      "\n",
      "New South Wales can be coloured in ['Red']\n",
      "New South Wales is coloured in Red\n",
      "\n",
      "Victoria can be coloured in ['Blue']\n",
      "Victoria is coloured in Blue\n",
      "\n",
      "Tasmania can be coloured in ['Red', 'Green', 'Blue']\n",
      "Tasmania is coloured in Red\n",
      "\n",
      "Final colour of all Variables is:  {'Western Australia': 'Blue', 'Northern Teritory': 'Red', 'South Australia': 'Green', 'Queensland': 'Blue', 'New South Wales': 'Red', 'Victoria': 'Blue', 'Tasmania': 'Red'}\n"
     ]
    }
   ],
   "source": [
    "# Setting variables and domain\n",
    "variables = {}\n",
    "for x in states:\n",
    "    variables[x] = ''\n",
    "colours = ['Red','Green','Blue']\n",
    "domain = {}\n",
    "flag = 1\n",
    "\n",
    "for x in variables:\n",
    "    domain[x] = colours.copy()\n",
    "\n",
    "# print(\"Variables = {0}\\nDomain = {1}\".format(variables,domain))\n",
    "\n",
    "for x in variables:\n",
    "    if domain[x]:\n",
    "        print(\"{} can be coloured in {}\".format(x,domain[x]))\n",
    "        variables[x] = random.choice(domain[x])\n",
    "        print(\"{} is coloured in {}\\n\".format(x,variables[x]))\n",
    "        for y in neighbours[x]:\n",
    "            if not variables[y]:\n",
    "                domain[y].remove(variables[x])\n",
    "    else:\n",
    "        print(\"{} cannot be coloured to satisfy contraints, Problem Unsolvable\".format(x))\n",
    "        flag = 0\n",
    "        break\n",
    "        \n",
    "    \n",
    "\n",
    "if flag:\n",
    "    print(\"Final colour of all Variables is: \",variables)"
   ]
  },
  {
   "cell_type": "code",
   "execution_count": null,
   "metadata": {},
   "outputs": [],
   "source": []
  }
 ],
 "metadata": {
  "kernelspec": {
   "display_name": "Python 3",
   "language": "python",
   "name": "python3"
  },
  "language_info": {
   "codemirror_mode": {
    "name": "ipython",
    "version": 3
   },
   "file_extension": ".py",
   "mimetype": "text/x-python",
   "name": "python",
   "nbconvert_exporter": "python",
   "pygments_lexer": "ipython3",
   "version": "3.6.5"
  }
 },
 "nbformat": 4,
 "nbformat_minor": 2
}
