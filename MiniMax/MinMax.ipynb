{
 "cells": [
  {
   "cell_type": "code",
   "execution_count": 10,
   "metadata": {},
   "outputs": [],
   "source": [
    "import math\n",
    "import random"
   ]
  },
  {
   "cell_type": "code",
   "execution_count": 25,
   "metadata": {},
   "outputs": [],
   "source": [
    "def minimax(a,i,j,maxTurn,depth):\n",
    "    if(i == depth):\n",
    "        return a[j]\n",
    "    if maxTurn:\n",
    "        x = max(minimax(a,i+1,2*j,False,depth),minimax(a,i+1,2*j+1,False,depth))\n",
    "#         print(\"Max  = {}\".format(x))\n",
    "        return x\n",
    "    else:\n",
    "        x = min(minimax(a,i+1,2*j,True,depth),minimax(a,i+1,2*j+1,True,depth))\n",
    "#         print(\"Min = {}\".format(x))\n",
    "        return x\n",
    "    "
   ]
  },
  {
   "cell_type": "code",
   "execution_count": 31,
   "metadata": {},
   "outputs": [],
   "source": [
    "a=[ int(random.random()*50) for x in range(8)]\n",
    "depth = math.log(len(a),2)\n"
   ]
  },
  {
   "cell_type": "code",
   "execution_count": 34,
   "metadata": {},
   "outputs": [
    {
     "name": "stdout",
     "output_type": "stream",
     "text": [
      "Minimax of [25, 0, 19, 25, 47, 19, 5, 29] is 29\n"
     ]
    }
   ],
   "source": [
    "print(\"Minimax of {} is {}\".format(a,minimax(a,0,0,True,depth)))"
   ]
  },
  {
   "cell_type": "code",
   "execution_count": null,
   "metadata": {},
   "outputs": [],
   "source": []
  }
 ],
 "metadata": {
  "kernelspec": {
   "display_name": "Python 3",
   "language": "python",
   "name": "python3"
  },
  "language_info": {
   "codemirror_mode": {
    "name": "ipython",
    "version": 3
   },
   "file_extension": ".py",
   "mimetype": "text/x-python",
   "name": "python",
   "nbconvert_exporter": "python",
   "pygments_lexer": "ipython3",
   "version": "3.6.5"
  }
 },
 "nbformat": 4,
 "nbformat_minor": 2
}
